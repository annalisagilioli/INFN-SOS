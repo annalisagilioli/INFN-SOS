{
 "cells": [
  {
   "cell_type": "markdown",
   "metadata": {},
   "source": [
    "# Distribution of Average Lifetimes\n",
    " >__Created__: Harrison B. Prosper, May 15 2024 for INFN SOS 2024, Paestum, Italy\n",
    " \n",
    " In this notebook, we investigate the density of the sample average \n",
    " \\begin{align}\n",
    "     z & = g(t_1,\\cdots,t_n) = \\frac{1}{n} \\sum_{j=1}^n t_j \n",
    " \\end{align}\n",
    " of $n$ lifetimes $t_j$, $j=1,\\cdots, n$ measured without error where $t_j \\sim \\text{Exp}(\\tau) = \\exp(-t / \\tau) \\, / \\, \\tau$ with $t \\in \\mathbb{R}^+$ and the density of the estimator $y = 1 / z$ of the decay rate $\\lambda = 1 / \\tau$ (see Glen Cowan's INFN SOS 2024 lecture slides). \n",
    "\n",
    "According to the random variable theorem [1],\n",
    "\n",
    "\\begin{align*}\n",
    "p(z) &= \\int_{0}^{\\infty} \\cdots  \\int_{0}^{\\infty} \\delta(z - g(t_1,\\cdots, c_n)) \\, f(t_1,\\cdots, t_n) \\, dt_1 \\cdots dt_n , \\\\\n",
    "&= \\frac{1}{2\\pi} \\int_{-\\infty}^{\\infty} d\\omega \\, e^{i\\omega z - i\\omega g} \\int_{0}^{\\infty} \\cdots  \\int_{0}^{\\infty} f(t_1,\\cdots, t_n) \\, dt_1 \\cdots dt_n , \\text{ using } \\delta(x) = \\frac{1}{2\\pi} \\int_{-\\infty}^{\\infty} e^{i \\omega x} \\, d\\omega, \n",
    "\\text{ where}\\\\\n",
    " f(t_1,\\cdots, t_n) & = \\prod_{j=1}^n \\exp(-t_j / \\tau) \\, / \\, \\tau . \n",
    "\\end{align*}\n",
    "\n",
    "Therefore,\n",
    "\\begin{align}\n",
    "p(z) \n",
    "&= \\frac{1}{2\\pi} \\int_{-\\infty}^{\\infty} d\\omega \\, e^{i\\omega z} \\prod_{j=1}^n \\frac{1}{\\tau} \\int_{0}^{\\infty} e^{-(i\\omega  / n + 1/\\tau) t_j} \\, d t_j , \\\\\n",
    "&= \\frac{1}{2\\pi} \\int_{-\\infty}^{\\infty} d\\omega \\, e^{i\\omega z} \\prod_{j=1}^n \\frac{1}{\\tau} \\frac{1}{(i\\omega  / n + 1/\\tau)}\\int_{0}^{\\infty} e^{-(i\\omega  / n + 1/\\tau) t_j} \\, d (i\\omega  / n + 1/\\tau) t_j , \\\\\n",
    "&= \\frac{1}{2\\pi i} \\int_{-\\infty}^{\\infty} d\\omega \\, e^{i\\omega z}  \\left[\\frac{i}{\\tau^n (i\\omega  / n + 1/\\tau)^n} \\right], \\\\\n",
    "&= \\frac{1}{2\\pi i} \\int_{-\\infty}^{\\infty} d\\omega \\, e^{i\\omega z}  \\left[ \\frac{i}{( i \\tau / n)^n (\\omega - i n /\\tau)^n} \\right] .\n",
    "\\end{align}\n",
    "Given an integral of the form\n",
    "\\begin{align}\n",
    "    p(z) = I(z) & = \\frac{1}{2\\pi i} \\int_{-\\infty}^{\\infty} e^{i\\omega z} F(\\omega) \\, d\\omega,\n",
    "\\end{align}\n",
    "we can use the residue theorem for a simple pole at $\\omega = \\omega_0$ of order $n$ \n",
    "\\begin{align}\n",
    "    p(z) & = \\lim_{\\omega \\rightarrow \\omega_0} \\frac{1}{(n-1)!} \\frac{d^{n-1}}{d\\omega^{n-1}} e^{i \\omega z} \\, (\\omega - \\omega_0)^n F(\\omega) .\n",
    "\\end{align}\n",
    "to evaluate the integral. This yields\n",
    "\\begin{align}\n",
    "    p(z) & = \\frac{1}{(n-1)!} (i z)^{n-1} e^{i \\omega_0 z}  \\left[ \\frac{i}{( i \\tau / n)^n} \\right] , \\quad\\text{where } \\omega_0 = i n / \\tau , \\\\\n",
    "        & = \\frac{1}{\\Gamma(n)}  e^{-  z / \\tau / n }  \\left(\\frac{ z}{\\tau/n} \\right)^{n-1} \\frac{ 1 }{\\tau/n} . \n",
    "\\end{align}\n",
    "This is just a gamma density \n",
    "$$f(x, \\alpha, \\delta) =\n",
    "       \\left(\\frac{x}{\\delta}\\right)^{\\alpha - 1} \\frac{e^{- x / \\delta }}{\\Gamma(\\alpha)} \\frac{1}{\\delta}, $$\n",
    "with location parameter zero and scale parameter $\\delta = \\tau / n$.\n",
    "\n",
    "If instead we wish to estimate the decay rate $\\lambda = 1 / \\tau$, we might try the maximum likelihood estimate $\\hat{\\lambda} = y = 1 / z$. Its density, an inverse gamma, \n",
    "\\begin{align}\n",
    "f(y) & = \\frac{1}{\\Gamma(n)} \\left(\\frac{n \\lambda}{y} \\right)^{n-1} \\, e^{-n \\lambda / y} \\left(\\frac{n \\lambda}{y} \\right)^2  \\frac{1}{n \\lambda} ,\n",
    "\\end{align}\n",
    "follows directly from that for the sample average $z$ of the lifetimes.\n",
    "\n",
    "  1. D. Gillespie, *A theorem for physicists in the theory of random variables*, Am. J. of Phys. 51, 520 (1983)."
   ]
  },
  {
   "cell_type": "code",
   "execution_count": 1,
   "metadata": {},
   "outputs": [],
   "source": [
    "# standard system modules\n",
    "import os, sys\n",
    "\n",
    "# standard array manipulation module\n",
    "import numpy as np\n",
    "\n",
    "# standard scientific computing module\n",
    "import scipy as sp\n",
    "import scipy.stats as st\n",
    "import scipy.integrate as integrate\n",
    "\n",
    "# standard symbolic algebra module\n",
    "import sympy as sm\n",
    "sm.init_printing()\n",
    "\n",
    "# standard plotting module\n",
    "import matplotlib as mp\n",
    "import matplotlib.pyplot as plt\n",
    "\n",
    "# arbitrary precision real and complex calculation\n",
    "#import mpmath\n",
    "\n",
    "# make plots appear inline\n",
    "%matplotlib inline"
   ]
  },
  {
   "cell_type": "code",
   "execution_count": 2,
   "metadata": {
    "scrolled": true
   },
   "outputs": [],
   "source": [
    "# update fonts\n",
    "font = {'family' : 'serif',\n",
    "        'weight' : 'normal',\n",
    "        'size'   : 14\n",
    "        }\n",
    "mp.rc('font', **font)\n",
    "mp.rc('xtick', labelsize='x-small')\n",
    "mp.rc('ytick', labelsize='x-small')\n",
    "# set usetex = False if latex not available on your machine\n",
    "mp.rc('text', usetex=True)  # Use local Latex compiler\n",
    "\n",
    "# set a seed to ensure reproducibility \n",
    "# on a given machine\n",
    "seed = 111\n",
    "rnd = np.random.RandomState(seed)"
   ]
  },
  {
   "cell_type": "markdown",
   "metadata": {},
   "source": [
    "### Generate $z = \\frac{1}{n} \\sum_{j=1}^n t_i, \\quad y = 1 / z$"
   ]
  },
  {
   "cell_type": "code",
   "execution_count": 3,
   "metadata": {},
   "outputs": [
    {
     "data": {
      "image/png": "[encoded data removed]",
      "text/latex": [
       "$\\displaystyle \\left( \\left( 1000000,\\right), \\  \\left( 1000000,\\right)\\right)$"
      ],
      "text/plain": [
       "((1000000,), (1000000,))"
      ]
     },
     "execution_count": 3,
     "metadata": {},
     "output_type": "execute_result"
    }
   ],
   "source": [
    "ZMIN = 0.0      \n",
    "ZMAX = 10.0\n",
    " \n",
    "n = n0 = 5 \n",
    "m = 1000000\n",
    "N = n*m\n",
    "\n",
    "tau = np.pi       # mean lifetime\n",
    "lda = 1/tau       # mean decay rate\n",
    "scale = (n-1)/n\n",
    "\n",
    "# sample averages over n lifetimes (measured without error)\n",
    "Z = rnd.exponential(tau, n*m).reshape((m,n)).mean(axis=1)\n",
    "\n",
    "# decay rates: L = 1/Z\n",
    "L = 1/Z\n",
    "\n",
    "Z.shape, L.shape"
   ]
  },
  {
   "cell_type": "markdown",
   "metadata": {},
   "source": [
    "### Histogram $z$ and compare with gamma density\n"
   ]
  },
  {
   "cell_type": "code",
   "execution_count": 4,
   "metadata": {},
   "outputs": [],
   "source": [
    "def gamma(z, delta=tau/n0):\n",
    "    return st.gamma.pdf(z, n0, loc=0, scale=delta)"
   ]
  },
  {
   "cell_type": "code",
   "execution_count": 5,
   "metadata": {},
   "outputs": [],
   "source": [
    "def plotData(data, \n",
    "             nbins=500,  \n",
    "             xmin=ZMIN, xmax=ZMAX,\n",
    "             ymin= 0, ymax=0.4,\n",
    "             ftsize=20, \n",
    "             color=(0.1, 0.3, 0.8), \n",
    "             fgsize=(6,4)):\n",
    "\n",
    "    # set size of figure\n",
    "    plt.figure(figsize=fgsize)\n",
    "    \n",
    "    # histogram data\n",
    "    # returns y, x, o\n",
    "    # y: counts\n",
    "    # x: bin boundaries\n",
    "    # o: objects (not used, hence the use of \"_\")\n",
    "    \n",
    "    y, x, _ = plt.hist(data, \n",
    "                       bins=nbins,\n",
    "                       color=color,\n",
    "                       alpha=0.20,\n",
    "                       density=True,\n",
    "                       range=(xmin, xmax))\n",
    "    \n",
    "    # convert bin boundaries to bin centers\n",
    "    # Note: x[1:]  = x[1], x[2], ..., x[n-1]\n",
    "    #       x[:-1] = x[0], x[1], ..., x[n-2]\n",
    "    x = (x[:-1] + x[1:])/2\n",
    "    f = [gamma(z) for z in x]\n",
    "\n",
    "    # superimpose Cauchy density\n",
    "    plt.plot(x, f, color=(1,0,0), lw=2)\n",
    "    \n",
    "    # add legends \n",
    "    plt.legend(['exact', \n",
    "                'by simulation'])\n",
    "    \n",
    "    # set up x, y limits\n",
    "    plt.xlim(xmin, xmax)\n",
    "    plt.ylim(ymin, ymax)\n",
    "    \n",
    "    # add x and y labels\n",
    "    plt.xlabel('$z$', fontsize=ftsize)\n",
    "    plt.ylabel('$p(z)$', fontsize=ftsize)\n",
    "    \n",
    "    # annotate \n",
    "    xwid = (xmax-xmin)/10\n",
    "    ywid = (ymax-ymin)/10\n",
    "    xpos = xmin + xwid\n",
    "    ypos = ymin + 8*ywid\n",
    "    \n",
    "    #plt.text(xpos, ypos, \n",
    "    #         r'$p(t) = \\frac{1}{\\pi (1 + t^2)}$', \n",
    "    #         fontsize=ftsize)\n",
    "    \n",
    "    # tighten layout so that image is fully\n",
    "    # contained within viewport\n",
    "    plt.tight_layout()\n",
    "    \n",
    "    plt.savefig(\"fig_mean_lifetime.png\")\n",
    "    plt.show()"
   ]
  },
  {
   "cell_type": "code",
   "execution_count": 6,
   "metadata": {},
   "outputs": [
    {
     "data": {
      "image/png": "[encoded data removed]",
      "text/plain": [
       "<Figure size 600x400 with 1 Axes>"
      ]
     },
     "metadata": {},
     "output_type": "display_data"
    }
   ],
   "source": [
    "plotData(Z)"
   ]
  },
  {
   "cell_type": "markdown",
   "metadata": {},
   "source": [
    "### Symbolic representation of inverse gamma density using `sympy`\n",
    "\\begin{align}\n",
    "f(y) & = \\frac{1}{\\Gamma(n)} \\left(\\frac{n \\lambda}{y} \\right)^{n-1} \\, e^{-n \\lambda / y} \\left(\\frac{n \\lambda}{y} \\right)^2  \\frac{1}{n \\lambda} ,\n",
    "\\end{align}"
   ]
  },
  {
   "cell_type": "code",
   "execution_count": 7,
   "metadata": {},
   "outputs": [
    {
     "data": {
      "image/png": "[encoded data removed]",
      "text/latex": [
       "$\\displaystyle \\left( n, \\  \\lambda, \\  y, \\  \\frac{\\lambda n \\left(\\frac{\\lambda n}{y}\\right)^{n - 1} e^{- \\frac{\\lambda n}{y}}}{y^{2} \\left(n - 1\\right)!}\\right)$"
      ],
      "text/plain": [
       "⎛                                           -\\lambda⋅n ⎞\n",
       "⎜                                    n - 1  ───────────⎟\n",
       "⎜                         ⎛\\lambda⋅n⎞            y     ⎟\n",
       "⎜               \\lambda⋅n⋅⎜─────────⎟     ⋅ℯ           ⎟\n",
       "⎜                         ⎝    y    ⎠                  ⎟\n",
       "⎜n, \\lambda, y, ───────────────────────────────────────⎟\n",
       "⎜                              2                       ⎟\n",
       "⎝                             y ⋅(n - 1)!              ⎠"
      ]
     },
     "execution_count": 7,
     "metadata": {},
     "output_type": "execute_result"
    }
   ],
   "source": [
    "n = sm.symbols('n', integer=True, positive=True)\n",
    "l, y = sm.symbols('\\lambda, y', real=True, positive=True)\n",
    "F = (n*l/y)**(n-1) * n * l * sm.exp(-n*l/y) / y**2 / sm.factorial(n-1)\n",
    "n, l, y, F"
   ]
  },
  {
   "cell_type": "markdown",
   "metadata": {},
   "source": [
    "### Compute moments $\\mu_0 = \\mathbb{E}[y^0]$, $\\mu_1 = \\mathbb{E}[y^1]$, and $\\mu_2 = \\mathbb{E}[y^2]$"
   ]
  },
  {
   "cell_type": "code",
   "execution_count": 8,
   "metadata": {},
   "outputs": [
    {
     "data": {
      "image/png": "[encoded data removed]",
      "text/latex": [
       "$\\displaystyle \\left( 1, \\  \\left( \\frac{\\lambda^{n - 1} n^{n - 1} \\left(\\lambda n\\right)^{2 - n} \\Gamma\\left(n - 1\\right)}{\\left(n - 1\\right)!}, \\  n > 1\\right), \\  \\left( \\frac{\\lambda^{n - 1} n^{n - 1} \\left(\\lambda n\\right)^{3 - n} \\Gamma\\left(n - 2\\right)}{\\left(n - 1\\right)!}, \\  n > 2\\right)\\right)$"
      ],
      "text/plain": [
       "⎛   ⎛       n - 1  n - 1            2 - n                ⎞  ⎛       n - 1  n -\n",
       "⎜   ⎜\\lambda     ⋅n     ⋅(\\lambda⋅n)     ⋅Γ(n - 1)       ⎟  ⎜\\lambda     ⋅n   \n",
       "⎜1, ⎜─────────────────────────────────────────────, n > 1⎟, ⎜─────────────────\n",
       "⎝   ⎝                   (n - 1)!                         ⎠  ⎝                 \n",
       "\n",
       " 1            3 - n                ⎞⎞\n",
       "  ⋅(\\lambda⋅n)     ⋅Γ(n - 2)       ⎟⎟\n",
       "────────────────────────────, n > 2⎟⎟\n",
       "  (n - 1)!                         ⎠⎠"
      ]
     },
     "execution_count": 8,
     "metadata": {},
     "output_type": "execute_result"
    }
   ],
   "source": [
    "m0 = sm.integrate(F, (y, 0, sm.oo)).simplify()\n",
    "m1 = sm.integrate(y*F, (y, 0, sm.oo), conds='separate')\n",
    "m2 = sm.integrate(y**2*F, (y, 0, sm.oo), conds='separate')\n",
    "m0, m1, m2"
   ]
  },
  {
   "cell_type": "code",
   "execution_count": 9,
   "metadata": {},
   "outputs": [
    {
     "data": {
      "image/png": "[encoded data removed]",
      "text/latex": [
       "$\\displaystyle \\left( \\frac{\\lambda n}{n - 1}, \\  \\frac{\\lambda^{2} n^{2}}{\\left(n - 2\\right) \\left(n - 1\\right)}\\right)$"
      ],
      "text/plain": [
       "⎛                    2  2  ⎞\n",
       "⎜\\lambda⋅n    \\lambda ⋅n   ⎟\n",
       "⎜─────────, ───────────────⎟\n",
       "⎝  n - 1    (n - 2)⋅(n - 1)⎠"
      ]
     },
     "execution_count": 9,
     "metadata": {},
     "output_type": "execute_result"
    }
   ],
   "source": [
    "m1 = m1[0].simplify()\n",
    "m2 = m2[0].simplify()\n",
    "m1, m2"
   ]
  },
  {
   "cell_type": "markdown",
   "metadata": {},
   "source": [
    "### Unbiased (non-MLE) estimator $\\hat{y}_\\text{unbiased} = \\hat{y} \\, (n-1)/n $\n",
    "The unbiased estimator for the decay rate will yield first and second moments given by\n",
    "\\begin{align}\n",
    "    M_1 & = \\mu_1 \\, \\left(\\frac{n-1}{n} \\right), \\\\ \n",
    "    M_2 & = \\mu_2 \\, \\left(\\frac{n-1}{n} \\right)^2  .\n",
    "\\end{align}"
   ]
  },
  {
   "cell_type": "code",
   "execution_count": 10,
   "metadata": {},
   "outputs": [
    {
     "data": {
      "image/png": "[encoded data removed]",
      "text/latex": [
       "$\\displaystyle \\left( \\lambda, \\  \\frac{\\lambda^{2} \\left(n - 1\\right)}{n - 2}\\right)$"
      ],
      "text/plain": [
       "⎛                2        ⎞\n",
       "⎜         \\lambda ⋅(n - 1)⎟\n",
       "⎜\\lambda, ────────────────⎟\n",
       "⎝              n - 2      ⎠"
      ]
     },
     "execution_count": 10,
     "metadata": {},
     "output_type": "execute_result"
    }
   ],
   "source": [
    "s  = (n-1)/n\n",
    "M1 = m1*s\n",
    "M2 = m2 * s**2\n",
    "M1, M2"
   ]
  },
  {
   "cell_type": "markdown",
   "metadata": {},
   "source": [
    "### Compute Mean Squared Error (MSE)\n",
    "\n",
    "By definition,\n",
    "\\begin{align}\n",
    "    b & = \\mathbb{E}[y] - \\lambda & \\text{ bias}, \\\\\\nonumber\\\\\n",
    "    \\mathbb{V}[y] & = \\mathbb{E}[y^2] - \\mathbb{E}^2[y] & \\text{ variance}, \\\\\n",
    "                & = \\mu_2 - \\mu_1^2 , \\nonumber\\\\ \\nonumber\\\\\n",
    "    MSE & = \\mathbb{E}[(y - \\lambda)^2] & \\text{ mean squared error},     \\\\\n",
    "        & = b^2 + \\mathbb{V}[y]  \n",
    "\\end{align}"
   ]
  },
  {
   "cell_type": "code",
   "execution_count": 11,
   "metadata": {},
   "outputs": [
    {
     "data": {
      "image/png": "[encoded data removed]",
      "text/latex": [
       "$\\displaystyle \\left( \\frac{\\lambda^{2} \\left(n + 2\\right)}{\\left(n - 2\\right) \\left(n - 1\\right)}, \\  \\frac{\\lambda^{2}}{n - 2}\\right)$"
      ],
      "text/plain": [
       "⎛       2                 2⎞\n",
       "⎜\\lambda ⋅(n + 2)  \\lambda ⎟\n",
       "⎜────────────────, ────────⎟\n",
       "⎝(n - 2)⋅(n - 1)    n - 2  ⎠"
      ]
     },
     "execution_count": 11,
     "metadata": {},
     "output_type": "execute_result"
    }
   ],
   "source": [
    "# biased estimator for lambda\n",
    "b = (m1 - l).simplify() # bias\n",
    "v = m2 - m1**2          # variance\n",
    "MSE1 = (b**2 + v).simplify().factor()\n",
    "\n",
    "# unbiased estimator for lambda\n",
    "B = 0\n",
    "V = M2 - M1**2\n",
    "MSE2 = V.simplify()\n",
    "\n",
    "MSE1, MSE2"
   ]
  },
  {
   "cell_type": "markdown",
   "metadata": {},
   "source": [
    "### Compute Ratio of $r = MSE_2 / MSE_1$"
   ]
  },
  {
   "cell_type": "code",
   "execution_count": 14,
   "metadata": {},
   "outputs": [
    {
     "data": {
      "image/png": "[encoded data removed]",
      "text/latex": [
       "$\\displaystyle \\frac{n - 1}{n + 2}$"
      ],
      "text/plain": [
       "n - 1\n",
       "─────\n",
       "n + 2"
      ]
     },
     "execution_count": 14,
     "metadata": {},
     "output_type": "execute_result"
    }
   ],
   "source": [
    "r = (MSE2/MSE1).simplify().factor()\n",
    "r"
   ]
  },
  {
   "cell_type": "code",
   "execution_count": 36,
   "metadata": {},
   "outputs": [
    {
     "name": "stdout",
     "output_type": "stream",
     "text": [
      "By MC simulation\n",
      "  L(biased) / lambda:           1.251\n",
      "  L(unbiased) / lambda:         1.000\n",
      "  MSE(unbiased) / MSE(biased):  0.571\n",
      "\n",
      "Exact\n",
      "  L(biased) / lambda:           1.250\n",
      "  MSE(unbiased) / MSE(biased):  0.571\n"
     ]
    }
   ],
   "source": [
    "MC_MSE1 = ((L - lda)**2).mean()\n",
    "\n",
    "L_unbiased = scale * L\n",
    "MC_MSE2 = ((L_unbiased - lda)**2).mean()\n",
    "\n",
    "R = MC_MSE2/MC_MSE1\n",
    "\n",
    "print('By MC simulation')\n",
    "print(f'  L(biased) / lambda:          {L.mean() / lda:6.3f}')\n",
    "print(f'  L(unbiased) / lambda:        {L_unbiased.mean() / lda:6.3f}')\n",
    "print(f'  MSE(unbiased) / MSE(biased): {R:6.3f}')\n",
    "print()\n",
    "print('Exact')\n",
    "print(f'  L(biased) / lambda:          {1/s.subs({n:n0}).evalf():6.3f}')\n",
    "print(f'  MSE(unbiased) / MSE(biased): {r.subs({n:n0}).evalf():6.3f}')"
   ]
  },
  {
   "cell_type": "markdown",
   "metadata": {},
   "source": [
    "### Conclusion\n",
    "Most of the time a bias correction wastes data in the sense that the MSE of the bias-corrected estimator is larger than that of the biased estimator. However, for the mean decay rate $\\lambda = 1 / \\tau$ a bias correction reduces the MSE. Therefore, in this case it makes sense to correct the bias because an ensemble of decay rate estimates will be closer on average in the MSE sense to the true value of the decay rate!"
   ]
  },
  {
   "cell_type": "code",
   "execution_count": null,
   "metadata": {},
   "outputs": [],
   "source": []
  }
 ],
 "metadata": {
  "kernelspec": {
   "display_name": "Python 3 (ipykernel)",
   "language": "python",
   "name": "python3"
  },
  "language_info": {
   "codemirror_mode": {
    "name": "ipython",
    "version": 3
   },
   "file_extension": ".py",
   "mimetype": "text/x-python",
   "name": "python",
   "nbconvert_exporter": "python",
   "pygments_lexer": "ipython3",
   "version": "3.11.8"
  }
 },
 "nbformat": 4,
 "nbformat_minor": 4
}
